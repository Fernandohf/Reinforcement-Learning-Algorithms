{
 "cells": [
  {
   "cell_type": "markdown",
   "metadata": {},
   "source": [
    "# A2C Example\n",
    "\n",
    "This example shows how to use the Asyncronous TODO (A2C) Agent to solve an environment. "
   ]
  },
  {
   "cell_type": "code",
   "execution_count": 1,
   "metadata": {},
   "outputs": [],
   "source": [
    "import bistrain"
   ]
  },
  {
   "cell_type": "code",
   "execution_count": 3,
   "metadata": {},
   "outputs": [],
   "source": [
    "from bistrain.agents import A2CAgent\n",
    "from bistrain.trainer import Trainer"
   ]
  },
  {
   "cell_type": "markdown",
   "metadata": {},
   "source": [
    "\n",
    "## Configuration and Hyperparameters"
   ]
  },
  {
   "cell_type": "code",
   "execution_count": 8,
   "metadata": {},
   "outputs": [
    {
     "data": {
      "text/plain": [
       "ConfigObj({'GLOBAL': {'DEVICE': 'cpu', 'SEED': 42, 'AGENT': 'a2c', 'ACTION_SIZE': 1, 'ACTION_SPACE': 'continuous', 'ACTION_RANGE': [-2.0, 2.0], 'STATE_SIZE': 3, 'ENVIRONMENT': 'Pendulum-v0'}, 'A2C': {'ACTOR': {'ARCHITECTURE': 'fc', 'HIDDEN_SIZE': [256, 32], 'LR': 0.001, 'WEIGHT_DECAY': 0.0, 'OPTIMIZER': 'adam', 'HIDDEN_ACTIV': 'relu', 'OUTPUT_LOC_ACTIV': 'relu', 'OUTPUT_SCALE_ACTIV': 'relu', 'OUTPUT_LOC_SCALER': 1.0}, 'CRITIC': {'HIDDEN_SIZE': [256, 128], 'LR': 0.001, 'WEIGHT_DECAY': 1e-05, 'OPTIMIZER': 'adam', 'ARCHITECTURE': 'fc'}, 'TRAINING': {'GAMMA': 0.99, 'N_STEP_BS': 4, 'LAMBDA': 0.5, 'GRADIENT_CLIP': 0.0}}, 'EXPLORATION': {'TYPE': 'gaussian', 'SIZE': '2', 'EPS_BETA': 0.1, 'EPS_MIN': 0.01, 'MEAN': 0.0, 'SIGMA': 0.4, 'THETA': 0.01}, 'TRAINER': {'MAX_STEPS': 200, 'N_ENVS': 10, 'EPISODES': 1000, 'PRINT_EVERY': 100, 'UPDATE_EVERY': 1, 'WANDB': False}, 'DDPG': {'ACTOR': {'HIDDEN_SIZE': [256, 128], 'HIDDEN_ACTIV': 'relu', 'LR': 0.01, 'WEIGHT_DECAY': 0.0, 'OPTIMIZER': 'adam', 'OUTPUT_LOC_ACTIV': 'relu', 'OUTPUT_SCALE_ACTIV': 'relu', 'OUTPUT_LOC_SCALER': 1.0}, 'CRITIC': {'ARCHITECTURE': 'fc', 'HIDDEN_SIZE': [256, 128], 'LR': 0.01, 'WEIGHT_DECAY': 0.0, 'OPTIMIZER': 'adam'}, 'TRAINING': {'GAMMA': 0.999, 'TAU': 0.05, 'LAMBDA': 0.05, 'N_STEP_BS': 4, 'UPDATE_EVERY_N_STEPS': 1, 'UPDATE_N_TIMES': 1, 'GRADIENT_CLIP': 0.0}, 'BUFFER': {'TYPE': 'replay', 'BATCH_SIZE': 256, 'BUFFER_SIZE': 10000000}}, 'PPO': {'ACTOR': {'ARCHITECTURE': 'fc', 'HIDDEN_SIZE': [256, 128], 'LR': 0.01, 'WEIGHT_DECAY': 0.0, 'OPTIMIZER': 'adam'}, 'CRITIC': {'ARCHITECTURE': 'fc', 'HIDDEN_SIZE': [256, 128], 'LR': 0.01, 'WEIGHT_DECAY': 0.0, 'OPTIMIZER': 'adam'}, 'TRAINING': {'BATCH_SIZE': 256, 'BUFFER_SIZE': 10000000, 'GAMMA': 0.999, 'TAU': 0.05, 'N_STEP_BS': 4, 'LAMBDA': 0.05}}})"
      ]
     },
     "execution_count": 8,
     "metadata": {},
     "output_type": "execute_result"
    }
   ],
   "source": [
    "from bistrain.config.configuration import BisTrainConfiguration\n",
    "# Define configuration file or Object\n",
    "config = BisTrainConfiguration('config_a2c.yaml')\n",
    "config"
   ]
  },
  {
   "cell_type": "markdown",
   "metadata": {},
   "source": [
    "## Trainer\n",
    "\n",
    "The trainer object loads all the necessary auxilary objects from the configurations "
   ]
  },
  {
   "cell_type": "code",
   "execution_count": 11,
   "metadata": {},
   "outputs": [
    {
     "data": {
      "text/plain": [
       "<bistrain.agents.A2CAgent at 0x7f5f38330090>"
      ]
     },
     "execution_count": 11,
     "metadata": {},
     "output_type": "execute_result"
    }
   ],
   "source": [
    "# Trainer\n",
    "trainr = Trainer(config)\n",
    "trainr.agent"
   ]
  },
  {
   "cell_type": "code",
   "execution_count": 12,
   "metadata": {},
   "outputs": [
    {
     "data": {
      "application/vnd.jupyter.widget-view+json": {
       "model_id": "8034a9e63eb34977a7ee843c39fef8ce",
       "version_major": 2,
       "version_minor": 0
      },
      "text/plain": [
       "HBox(children=(FloatProgress(value=0.0, layout=Layout(flex='2'), max=1000.0), HTML(value='')), layout=Layout(d…"
      ]
     },
     "metadata": {},
     "output_type": "display_data"
    },
    {
     "name": "stderr",
     "output_type": "stream",
     "text": [
      "ERROR:root:Internal Python error in the inspect module.\n",
      "Below is the traceback from this internal error.\n",
      "\n"
     ]
    },
    {
     "name": "stdout",
     "output_type": "stream",
     "text": [
      "Traceback (most recent call last):\n",
      "  File \"/home/fernandohf/miniconda/envs/pytorch/lib/python3.7/site-packages/IPython/core/interactiveshell.py\", line 3319, in run_code\n",
      "    exec(code_obj, self.user_global_ns, self.user_ns)\n",
      "  File \"<ipython-input-12-0699085e273b>\", line 1, in <module>\n",
      "    trainr.run()\n",
      "  File \"/home/fernandohf/Github/Reinforcement-Learning-Algorithms/bistrain/trainer.py\", line 165, in run\n",
      "    scores, done = self.agent.step(self.env)\n",
      "  File \"/home/fernandohf/Github/Reinforcement-Learning-Algorithms/bistrain/agents.py\", line 98, in step\n",
      "    n_bootstrap=config.N_STEP_BS)\n",
      "  File \"/home/fernandohf/Github/Reinforcement-Learning-Algorithms/bistrain/utils.py\", line 95, in n_step_boostrap\n",
      "    actions_env = agent.act(previous_states, explore=True)\n",
      "  File \"/home/fernandohf/Github/Reinforcement-Learning-Algorithms/bistrain/agents.py\", line 53, in act\n",
      "    action, _ = self.actor(state)\n",
      "  File \"/home/fernandohf/miniconda/envs/pytorch/lib/python3.7/site-packages/torch/nn/modules/module.py\", line 541, in __call__\n",
      "    result = self.forward(*input, **kwargs)\n",
      "  File \"/home/fernandohf/Github/Reinforcement-Learning-Algorithms/bistrain/networks/actors.py\", line 131, in forward\n",
      "    return self.saturation(sample), log_probs\n",
      "  File \"/home/fernandohf/miniconda/envs/pytorch/lib/python3.7/site-packages/torch/nn/modules/module.py\", line 541, in __call__\n",
      "    result = self.forward(*input, **kwargs)\n",
      "  File \"/home/fernandohf/miniconda/envs/pytorch/lib/python3.7/site-packages/torch/nn/modules/activation.py\", line 209, in forward\n",
      "    return F.hardtanh(input, self.min_val, self.max_val, self.inplace)\n",
      "  File \"/home/fernandohf/miniconda/envs/pytorch/lib/python3.7/site-packages/torch/nn/functional.py\", line 960, in hardtanh\n",
      "    result = torch._C._nn.hardtanh(input, min_val, max_val)\n",
      "KeyboardInterrupt\n",
      "\n",
      "During handling of the above exception, another exception occurred:\n",
      "\n",
      "Traceback (most recent call last):\n",
      "  File \"/home/fernandohf/miniconda/envs/pytorch/lib/python3.7/site-packages/IPython/core/interactiveshell.py\", line 2034, in showtraceback\n",
      "    stb = value._render_traceback_()\n",
      "AttributeError: 'KeyboardInterrupt' object has no attribute '_render_traceback_'\n",
      "\n",
      "During handling of the above exception, another exception occurred:\n",
      "\n",
      "Traceback (most recent call last):\n",
      "  File \"/home/fernandohf/miniconda/envs/pytorch/lib/python3.7/site-packages/IPython/core/ultratb.py\", line 1101, in get_records\n",
      "    return _fixed_getinnerframes(etb, number_of_lines_of_context, tb_offset)\n",
      "  File \"/home/fernandohf/miniconda/envs/pytorch/lib/python3.7/site-packages/IPython/core/ultratb.py\", line 319, in wrapped\n",
      "    return f(*args, **kwargs)\n",
      "  File \"/home/fernandohf/miniconda/envs/pytorch/lib/python3.7/site-packages/IPython/core/ultratb.py\", line 353, in _fixed_getinnerframes\n",
      "    records = fix_frame_records_filenames(inspect.getinnerframes(etb, context))\n",
      "  File \"/home/fernandohf/miniconda/envs/pytorch/lib/python3.7/inspect.py\", line 1502, in getinnerframes\n",
      "    frameinfo = (tb.tb_frame,) + getframeinfo(tb, context)\n",
      "  File \"/home/fernandohf/miniconda/envs/pytorch/lib/python3.7/inspect.py\", line 1460, in getframeinfo\n",
      "    filename = getsourcefile(frame) or getfile(frame)\n",
      "  File \"/home/fernandohf/miniconda/envs/pytorch/lib/python3.7/inspect.py\", line 696, in getsourcefile\n",
      "    if getattr(getmodule(object, filename), '__loader__', None) is not None:\n",
      "  File \"/home/fernandohf/miniconda/envs/pytorch/lib/python3.7/inspect.py\", line 742, in getmodule\n",
      "    os.path.realpath(f)] = module.__name__\n",
      "  File \"/home/fernandohf/miniconda/envs/pytorch/lib/python3.7/posixpath.py\", line 395, in realpath\n",
      "    path, ok = _joinrealpath(filename[:0], filename, {})\n",
      "  File \"/home/fernandohf/miniconda/envs/pytorch/lib/python3.7/posixpath.py\", line 429, in _joinrealpath\n",
      "    if not islink(newpath):\n",
      "  File \"/home/fernandohf/miniconda/envs/pytorch/lib/python3.7/posixpath.py\", line 171, in islink\n",
      "    st = os.lstat(path)\n",
      "KeyboardInterrupt\n"
     ]
    },
    {
     "ename": "KeyboardInterrupt",
     "evalue": "",
     "output_type": "error",
     "traceback": [
      "\u001b[0;31m---------------------------------------------------------------------------\u001b[0m"
     ]
    }
   ],
   "source": [
    "trainr.run()"
   ]
  }
 ],
 "metadata": {
  "kernelspec": {
   "display_name": "Python 3",
   "language": "python",
   "name": "python3"
  },
  "language_info": {
   "codemirror_mode": {
    "name": "ipython",
    "version": 3
   },
   "file_extension": ".py",
   "mimetype": "text/x-python",
   "name": "python",
   "nbconvert_exporter": "python",
   "pygments_lexer": "ipython3",
   "version": "3.7.5"
  }
 },
 "nbformat": 4,
 "nbformat_minor": 4
}
