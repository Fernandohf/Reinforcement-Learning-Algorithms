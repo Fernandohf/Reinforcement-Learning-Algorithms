{
 "cells": [
  {
   "cell_type": "markdown",
   "metadata": {},
   "source": [
    "# A2C Example\n",
    "\n",
    "This example shows how to use the Asyncronous TODO (A2C) Agent to solve an environment. "
   ]
  },
  {
   "cell_type": "markdown",
   "metadata": {},
   "source": [
    "\n",
    "## Configuration and Hyperparameters"
   ]
  },
  {
   "cell_type": "code",
   "execution_count": 1,
   "metadata": {},
   "outputs": [
    {
     "data": {
      "text/html": [
       "<pre>GLOBAL:\tDEVICE:\tcpu\n",
       "\tSEED:\t42\n",
       "\tAGENT:\ta2c\n",
       "\tACTION_SIZE:\t1\n",
       "\tACTION_SPACE:\tcontinuous\n",
       "\tACTION_RANGE:\t[-2.0, 2.0]\n",
       "\tSTATE_SIZE:\t3\n",
       "\tENVIRONMENT:\tPendulum-v0\n",
       "\n",
       "A2C:\tACTOR:\tARCHITECTURE:\tfc\n",
       "\t\tHIDDEN_SIZE:\t[256, 32]\n",
       "\t\tLR:\t0.001\n",
       "\t\tWEIGHT_DECAY:\t0.0\n",
       "\t\tOPTIMIZER:\tadam\n",
       "\t\tHIDDEN_ACTIV:\trelu\n",
       "\t\tOUTPUT_LOC_ACTIV:\trelu\n",
       "\t\tOUTPUT_SCALE_ACTIV:\trelu\n",
       "\t\tOUTPUT_LOC_SCALER:\t1.0\n",
       "\n",
       "\tCRITIC:\tHIDDEN_SIZE:\t[256, 128]\n",
       "\t\tLR:\t0.001\n",
       "\t\tWEIGHT_DECAY:\t1e-05\n",
       "\t\tOPTIMIZER:\tadam\n",
       "\t\tARCHITECTURE:\tfc\n",
       "\n",
       "\tTRAINING:\tGAMMA:\t0.99\n",
       "\t\tN_STEP_BS:\t4\n",
       "\t\tLAMBDA:\t0.5\n",
       "\t\tGRADIENT_CLIP:\t0.0\n",
       "\n",
       "\n",
       "EXPLORATION:\tTYPE:\tgaussian\n",
       "\tSIZE:\t2\n",
       "\tEPS_BETA:\t0.1\n",
       "\tEPS_MIN:\t0.01\n",
       "\tMEAN:\t0.0\n",
       "\tSIGMA:\t0.4\n",
       "\tTHETA:\t0.01\n",
       "\n",
       "TRAINER:\tMAX_STEPS:\t200\n",
       "\tN_ENVS:\t10\n",
       "\tEPISODES:\t100\n",
       "\tPRINT_EVERY:\t10\n",
       "\tUPDATE_EVERY:\t1\n",
       "\tWANDB:\tFalse\n",
       "\n",
       "DDPG:\tACTOR:\tHIDDEN_SIZE:\t[256, 128]\n",
       "\t\tHIDDEN_ACTIV:\trelu\n",
       "\t\tLR:\t0.01\n",
       "\t\tWEIGHT_DECAY:\t0.0\n",
       "\t\tOPTIMIZER:\tadam\n",
       "\t\tOUTPUT_LOC_ACTIV:\trelu\n",
       "\t\tOUTPUT_SCALE_ACTIV:\trelu\n",
       "\t\tOUTPUT_LOC_SCALER:\t1.0\n",
       "\n",
       "\tCRITIC:\tARCHITECTURE:\tfc\n",
       "\t\tHIDDEN_SIZE:\t[256, 128]\n",
       "\t\tLR:\t0.01\n",
       "\t\tWEIGHT_DECAY:\t0.0\n",
       "\t\tOPTIMIZER:\tadam\n",
       "\n",
       "\tTRAINING:\tGAMMA:\t0.999\n",
       "\t\tTAU:\t0.05\n",
       "\t\tLAMBDA:\t0.05\n",
       "\t\tN_STEP_BS:\t4\n",
       "\t\tUPDATE_EVERY_N_STEPS:\t1\n",
       "\t\tUPDATE_N_TIMES:\t1\n",
       "\t\tGRADIENT_CLIP:\t0.0\n",
       "\n",
       "\tBUFFER:\tTYPE:\treplay\n",
       "\t\tBATCH_SIZE:\t256\n",
       "\t\tBUFFER_SIZE:\t10000000\n",
       "\n",
       "\n",
       "PPO:\tACTOR:\tARCHITECTURE:\tfc\n",
       "\t\tHIDDEN_SIZE:\t[256, 128]\n",
       "\t\tLR:\t0.01\n",
       "\t\tWEIGHT_DECAY:\t0.0\n",
       "\t\tOPTIMIZER:\tadam\n",
       "\n",
       "\tCRITIC:\tARCHITECTURE:\tfc\n",
       "\t\tHIDDEN_SIZE:\t[256, 128]\n",
       "\t\tLR:\t0.01\n",
       "\t\tWEIGHT_DECAY:\t0.0\n",
       "\t\tOPTIMIZER:\tadam\n",
       "\n",
       "\tTRAINING:\tBATCH_SIZE:\t256\n",
       "\t\tBUFFER_SIZE:\t10000000\n",
       "\t\tGAMMA:\t0.999\n",
       "\t\tTAU:\t0.05\n",
       "\t\tN_STEP_BS:\t4\n",
       "\t\tLAMBDA:\t0.05\n",
       "\n",
       "\n",
       "</pre>"
      ],
      "text/plain": [
       "ConfigObj({'GLOBAL': {'DEVICE': 'cpu', 'SEED': 42, 'AGENT': 'a2c', 'ACTION_SIZE': 1, 'ACTION_SPACE': 'continuous', 'ACTION_RANGE': [-2.0, 2.0], 'STATE_SIZE': 3, 'ENVIRONMENT': 'Pendulum-v0'}, 'A2C': {'ACTOR': {'ARCHITECTURE': 'fc', 'HIDDEN_SIZE': [256, 32], 'LR': 0.001, 'WEIGHT_DECAY': 0.0, 'OPTIMIZER': 'adam', 'HIDDEN_ACTIV': 'relu', 'OUTPUT_LOC_ACTIV': 'relu', 'OUTPUT_SCALE_ACTIV': 'relu', 'OUTPUT_LOC_SCALER': 1.0}, 'CRITIC': {'HIDDEN_SIZE': [256, 128], 'LR': 0.001, 'WEIGHT_DECAY': 1e-05, 'OPTIMIZER': 'adam', 'ARCHITECTURE': 'fc'}, 'TRAINING': {'GAMMA': 0.99, 'N_STEP_BS': 4, 'LAMBDA': 0.5, 'GRADIENT_CLIP': 0.0}}, 'EXPLORATION': {'TYPE': 'gaussian', 'SIZE': '2', 'EPS_BETA': 0.1, 'EPS_MIN': 0.01, 'MEAN': 0.0, 'SIGMA': 0.4, 'THETA': 0.01}, 'TRAINER': {'MAX_STEPS': 200, 'N_ENVS': 10, 'EPISODES': 100, 'PRINT_EVERY': 10, 'UPDATE_EVERY': 1, 'WANDB': False}, 'DDPG': {'ACTOR': {'HIDDEN_SIZE': [256, 128], 'HIDDEN_ACTIV': 'relu', 'LR': 0.01, 'WEIGHT_DECAY': 0.0, 'OPTIMIZER': 'adam', 'OUTPUT_LOC_ACTIV': 'relu', 'OUTPUT_SCALE_ACTIV': 'relu', 'OUTPUT_LOC_SCALER': 1.0}, 'CRITIC': {'ARCHITECTURE': 'fc', 'HIDDEN_SIZE': [256, 128], 'LR': 0.01, 'WEIGHT_DECAY': 0.0, 'OPTIMIZER': 'adam'}, 'TRAINING': {'GAMMA': 0.999, 'TAU': 0.05, 'LAMBDA': 0.05, 'N_STEP_BS': 4, 'UPDATE_EVERY_N_STEPS': 1, 'UPDATE_N_TIMES': 1, 'GRADIENT_CLIP': 0.0}, 'BUFFER': {'TYPE': 'replay', 'BATCH_SIZE': 256, 'BUFFER_SIZE': 10000000}}, 'PPO': {'ACTOR': {'ARCHITECTURE': 'fc', 'HIDDEN_SIZE': [256, 128], 'LR': 0.01, 'WEIGHT_DECAY': 0.0, 'OPTIMIZER': 'adam'}, 'CRITIC': {'ARCHITECTURE': 'fc', 'HIDDEN_SIZE': [256, 128], 'LR': 0.01, 'WEIGHT_DECAY': 0.0, 'OPTIMIZER': 'adam'}, 'TRAINING': {'BATCH_SIZE': 256, 'BUFFER_SIZE': 10000000, 'GAMMA': 0.999, 'TAU': 0.05, 'N_STEP_BS': 4, 'LAMBDA': 0.05}}})"
      ]
     },
     "execution_count": 1,
     "metadata": {},
     "output_type": "execute_result"
    }
   ],
   "source": [
    "from bistrain.config.configuration import BisTrainConfiguration\n",
    "# Define configuration file or Object\n",
    "config = BisTrainConfiguration('config_a2c.yaml')\n",
    "config"
   ]
  },
  {
   "cell_type": "markdown",
   "metadata": {},
   "source": [
    "## Trainer\n",
    "\n",
    "The trainer object loads all the necessary auxilary objects from the configurations "
   ]
  },
  {
   "cell_type": "code",
   "execution_count": 2,
   "metadata": {},
   "outputs": [],
   "source": [
    "from bistrain.trainer import Trainer\n",
    "# Trainer\n",
    "trainr = Trainer(config)"
   ]
  },
  {
   "cell_type": "code",
   "execution_count": null,
   "metadata": {},
   "outputs": [
    {
     "data": {
      "application/vnd.jupyter.widget-view+json": {
       "model_id": "9724acb0e78e42cb9c7873a208bb1ad8",
       "version_major": 2,
       "version_minor": 0
      },
      "text/plain": [
       "HBox(children=(FloatProgress(value=0.0, layout=Layout(flex='2')), HTML(value='')), layout=Layout(display='inli…"
      ]
     },
     "metadata": {},
     "output_type": "display_data"
    }
   ],
   "source": [
    "trainr.run()"
   ]
  }
 ],
 "metadata": {
  "kernelspec": {
   "display_name": "Python 3",
   "language": "python",
   "name": "python3"
  },
  "language_info": {
   "codemirror_mode": {
    "name": "ipython",
    "version": 3
   },
   "file_extension": ".py",
   "mimetype": "text/x-python",
   "name": "python",
   "nbconvert_exporter": "python",
   "pygments_lexer": "ipython3",
   "version": "3.7.5"
  }
 },
 "nbformat": 4,
 "nbformat_minor": 4
}
